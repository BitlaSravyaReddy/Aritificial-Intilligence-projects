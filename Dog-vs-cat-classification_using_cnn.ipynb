{
  "nbformat": 4,
  "nbformat_minor": 0,
  "metadata": {
    "colab": {
      "provenance": [],
      "authorship_tag": "ABX9TyNc+E4xlxXZsqfG0+YDvkcU",
      "include_colab_link": true
    },
    "kernelspec": {
      "name": "python3",
      "display_name": "Python 3"
    },
    "language_info": {
      "name": "python"
    }
  },
  "cells": [
    {
      "cell_type": "markdown",
      "metadata": {
        "id": "view-in-github",
        "colab_type": "text"
      },
      "source": [
        "<a href=\"https://colab.research.google.com/github/BitlaSravyaReddy/Slash_Mark_IT_Internship/blob/main/Dog-vs-cat-classification_using_cnn.ipynb\" target=\"_parent\"><img src=\"https://colab.research.google.com/assets/colab-badge.svg\" alt=\"Open In Colab\"/></a>"
      ]
    },
    {
      "cell_type": "code",
      "execution_count": 2,
      "metadata": {
        "id": "wiwqzjDdPRJM",
        "colab": {
          "base_uri": "https://localhost:8080/"
        },
        "outputId": "e57b6897-3e0c-4aab-caa9-9237e664e0dd"
      },
      "outputs": [
        {
          "output_type": "stream",
          "name": "stdout",
          "text": [
            "cp: cannot stat 'kaggle.json': No such file or directory\n"
          ]
        }
      ],
      "source": [
        "!mkdir -p ~/.kaggle\n",
        "!cp kaggle.json ~/.kaggle/"
      ]
    },
    {
      "cell_type": "code",
      "source": [
        "!kaggle datasets download -d salader/dogs-vs-cats"
      ],
      "metadata": {
        "colab": {
          "base_uri": "https://localhost:8080/"
        },
        "id": "TbVeo2h9PZrW",
        "outputId": "0ea764e5-e627-42ba-d5ca-3aaa6d84cf13"
      },
      "execution_count": 3,
      "outputs": [
        {
          "output_type": "stream",
          "name": "stdout",
          "text": [
            "Dataset URL: https://www.kaggle.com/datasets/salader/dogs-vs-cats\n",
            "License(s): unknown\n",
            "Downloading dogs-vs-cats.zip to /content\n",
            "100% 1.06G/1.06G [00:11<00:00, 218MB/s]\n",
            "100% 1.06G/1.06G [00:11<00:00, 96.8MB/s]\n"
          ]
        }
      ]
    },
    {
      "cell_type": "code",
      "source": [
        "import zipfile\n",
        "zip_ref=zipfile.ZipFile('/content/dogs-vs-cats.zip','r')\n",
        "zip_ref.extractall('/content')\n",
        "zip_ref.close()"
      ],
      "metadata": {
        "id": "sDQP_qQdaBz4"
      },
      "execution_count": 4,
      "outputs": []
    },
    {
      "cell_type": "code",
      "source": [
        "!pip install tensorflow"
      ],
      "metadata": {
        "colab": {
          "base_uri": "https://localhost:8080/"
        },
        "id": "On23qlojcuNM",
        "outputId": "3e853c0a-030a-4170-de42-256e9e51dc7d"
      },
      "execution_count": 5,
      "outputs": [
        {
          "output_type": "stream",
          "name": "stdout",
          "text": [
            "Requirement already satisfied: tensorflow in /usr/local/lib/python3.10/dist-packages (2.15.0)\n",
            "Requirement already satisfied: absl-py>=1.0.0 in /usr/local/lib/python3.10/dist-packages (from tensorflow) (1.4.0)\n",
            "Requirement already satisfied: astunparse>=1.6.0 in /usr/local/lib/python3.10/dist-packages (from tensorflow) (1.6.3)\n",
            "Requirement already satisfied: flatbuffers>=23.5.26 in /usr/local/lib/python3.10/dist-packages (from tensorflow) (24.3.25)\n",
            "Requirement already satisfied: gast!=0.5.0,!=0.5.1,!=0.5.2,>=0.2.1 in /usr/local/lib/python3.10/dist-packages (from tensorflow) (0.5.4)\n",
            "Requirement already satisfied: google-pasta>=0.1.1 in /usr/local/lib/python3.10/dist-packages (from tensorflow) (0.2.0)\n",
            "Requirement already satisfied: h5py>=2.9.0 in /usr/local/lib/python3.10/dist-packages (from tensorflow) (3.9.0)\n",
            "Requirement already satisfied: libclang>=13.0.0 in /usr/local/lib/python3.10/dist-packages (from tensorflow) (18.1.1)\n",
            "Requirement already satisfied: ml-dtypes~=0.2.0 in /usr/local/lib/python3.10/dist-packages (from tensorflow) (0.2.0)\n",
            "Requirement already satisfied: numpy<2.0.0,>=1.23.5 in /usr/local/lib/python3.10/dist-packages (from tensorflow) (1.25.2)\n",
            "Requirement already satisfied: opt-einsum>=2.3.2 in /usr/local/lib/python3.10/dist-packages (from tensorflow) (3.3.0)\n",
            "Requirement already satisfied: packaging in /usr/local/lib/python3.10/dist-packages (from tensorflow) (24.0)\n",
            "Requirement already satisfied: protobuf!=4.21.0,!=4.21.1,!=4.21.2,!=4.21.3,!=4.21.4,!=4.21.5,<5.0.0dev,>=3.20.3 in /usr/local/lib/python3.10/dist-packages (from tensorflow) (3.20.3)\n",
            "Requirement already satisfied: setuptools in /usr/local/lib/python3.10/dist-packages (from tensorflow) (67.7.2)\n",
            "Requirement already satisfied: six>=1.12.0 in /usr/local/lib/python3.10/dist-packages (from tensorflow) (1.16.0)\n",
            "Requirement already satisfied: termcolor>=1.1.0 in /usr/local/lib/python3.10/dist-packages (from tensorflow) (2.4.0)\n",
            "Requirement already satisfied: typing-extensions>=3.6.6 in /usr/local/lib/python3.10/dist-packages (from tensorflow) (4.11.0)\n",
            "Requirement already satisfied: wrapt<1.15,>=1.11.0 in /usr/local/lib/python3.10/dist-packages (from tensorflow) (1.14.1)\n",
            "Requirement already satisfied: tensorflow-io-gcs-filesystem>=0.23.1 in /usr/local/lib/python3.10/dist-packages (from tensorflow) (0.37.0)\n",
            "Requirement already satisfied: grpcio<2.0,>=1.24.3 in /usr/local/lib/python3.10/dist-packages (from tensorflow) (1.64.0)\n",
            "Requirement already satisfied: tensorboard<2.16,>=2.15 in /usr/local/lib/python3.10/dist-packages (from tensorflow) (2.15.2)\n",
            "Requirement already satisfied: tensorflow-estimator<2.16,>=2.15.0 in /usr/local/lib/python3.10/dist-packages (from tensorflow) (2.15.0)\n",
            "Requirement already satisfied: keras<2.16,>=2.15.0 in /usr/local/lib/python3.10/dist-packages (from tensorflow) (2.15.0)\n",
            "Requirement already satisfied: wheel<1.0,>=0.23.0 in /usr/local/lib/python3.10/dist-packages (from astunparse>=1.6.0->tensorflow) (0.43.0)\n",
            "Requirement already satisfied: google-auth<3,>=1.6.3 in /usr/local/lib/python3.10/dist-packages (from tensorboard<2.16,>=2.15->tensorflow) (2.27.0)\n",
            "Requirement already satisfied: google-auth-oauthlib<2,>=0.5 in /usr/local/lib/python3.10/dist-packages (from tensorboard<2.16,>=2.15->tensorflow) (1.2.0)\n",
            "Requirement already satisfied: markdown>=2.6.8 in /usr/local/lib/python3.10/dist-packages (from tensorboard<2.16,>=2.15->tensorflow) (3.6)\n",
            "Requirement already satisfied: requests<3,>=2.21.0 in /usr/local/lib/python3.10/dist-packages (from tensorboard<2.16,>=2.15->tensorflow) (2.31.0)\n",
            "Requirement already satisfied: tensorboard-data-server<0.8.0,>=0.7.0 in /usr/local/lib/python3.10/dist-packages (from tensorboard<2.16,>=2.15->tensorflow) (0.7.2)\n",
            "Requirement already satisfied: werkzeug>=1.0.1 in /usr/local/lib/python3.10/dist-packages (from tensorboard<2.16,>=2.15->tensorflow) (3.0.3)\n",
            "Requirement already satisfied: cachetools<6.0,>=2.0.0 in /usr/local/lib/python3.10/dist-packages (from google-auth<3,>=1.6.3->tensorboard<2.16,>=2.15->tensorflow) (5.3.3)\n",
            "Requirement already satisfied: pyasn1-modules>=0.2.1 in /usr/local/lib/python3.10/dist-packages (from google-auth<3,>=1.6.3->tensorboard<2.16,>=2.15->tensorflow) (0.4.0)\n",
            "Requirement already satisfied: rsa<5,>=3.1.4 in /usr/local/lib/python3.10/dist-packages (from google-auth<3,>=1.6.3->tensorboard<2.16,>=2.15->tensorflow) (4.9)\n",
            "Requirement already satisfied: requests-oauthlib>=0.7.0 in /usr/local/lib/python3.10/dist-packages (from google-auth-oauthlib<2,>=0.5->tensorboard<2.16,>=2.15->tensorflow) (1.3.1)\n",
            "Requirement already satisfied: charset-normalizer<4,>=2 in /usr/local/lib/python3.10/dist-packages (from requests<3,>=2.21.0->tensorboard<2.16,>=2.15->tensorflow) (3.3.2)\n",
            "Requirement already satisfied: idna<4,>=2.5 in /usr/local/lib/python3.10/dist-packages (from requests<3,>=2.21.0->tensorboard<2.16,>=2.15->tensorflow) (3.7)\n",
            "Requirement already satisfied: urllib3<3,>=1.21.1 in /usr/local/lib/python3.10/dist-packages (from requests<3,>=2.21.0->tensorboard<2.16,>=2.15->tensorflow) (2.0.7)\n",
            "Requirement already satisfied: certifi>=2017.4.17 in /usr/local/lib/python3.10/dist-packages (from requests<3,>=2.21.0->tensorboard<2.16,>=2.15->tensorflow) (2024.2.2)\n",
            "Requirement already satisfied: MarkupSafe>=2.1.1 in /usr/local/lib/python3.10/dist-packages (from werkzeug>=1.0.1->tensorboard<2.16,>=2.15->tensorflow) (2.1.5)\n",
            "Requirement already satisfied: pyasn1<0.7.0,>=0.4.6 in /usr/local/lib/python3.10/dist-packages (from pyasn1-modules>=0.2.1->google-auth<3,>=1.6.3->tensorboard<2.16,>=2.15->tensorflow) (0.6.0)\n",
            "Requirement already satisfied: oauthlib>=3.0.0 in /usr/local/lib/python3.10/dist-packages (from requests-oauthlib>=0.7.0->google-auth-oauthlib<2,>=0.5->tensorboard<2.16,>=2.15->tensorflow) (3.2.2)\n"
          ]
        }
      ]
    },
    {
      "cell_type": "code",
      "source": [
        "import tensorflow\n",
        "from tensorflow import keras\n",
        "from tensorflow.keras.models import Sequential\n",
        "from tensorflow.keras.layers import Flatten,Dense,Conv2D, MaxPooling2D,BatchNormalization,Dropout\n",
        "from tensorflow.keras.callbacks import TensorBoard"
      ],
      "metadata": {
        "id": "ikzVDT65aCAF"
      },
      "execution_count": null,
      "outputs": []
    },
    {
      "cell_type": "code",
      "source": [
        "from warnings import filterwarnings\n",
        "filterwarnings('ignore')"
      ],
      "metadata": {
        "id": "n6oyr8H_aCBt"
      },
      "execution_count": 7,
      "outputs": []
    },
    {
      "cell_type": "code",
      "source": [
        "from tensorflow.keras.preprocessing.image import ImageDataGenerator\n",
        "train_datagen = ImageDataGenerator(rescale=1./255,\n",
        "                                   shear_range=0.1,\n",
        "                                   zoom_range=0.1,\n",
        "                                   horizontal_flip=True)\n",
        "test_datagen = ImageDataGenerator(rescale=1./255)\n",
        "\n",
        "#Training Set\n",
        "train_set = train_datagen.flow_from_directory('/content/train',\n",
        "                                             target_size=(64,64),\n",
        "                                             batch_size=32,\n",
        "                                             class_mode='binary')\n",
        "#Validation Set\n",
        "test_set = test_datagen.flow_from_directory('/content/test',\n",
        "                                           target_size=(64,64),\n",
        "                                           batch_size = 32,\n",
        "                                           class_mode='binary',\n",
        "                                           shuffle=False)\n"
      ],
      "metadata": {
        "colab": {
          "base_uri": "https://localhost:8080/"
        },
        "id": "YEn67rmD7c8i",
        "outputId": "556e8ebd-28ad-4702-e909-70a901ca7ac6"
      },
      "execution_count": 8,
      "outputs": [
        {
          "output_type": "stream",
          "name": "stdout",
          "text": [
            "Found 20000 images belonging to 2 classes.\n",
            "Found 5000 images belonging to 2 classes.\n"
          ]
        }
      ]
    },
    {
      "cell_type": "code",
      "source": [
        "classifier = Sequential()\n",
        "classifier.add(Conv2D(32,(3,3),padding='valid',input_shape=(64,64,3),activation = 'relu'))\n",
        "classifier.add(BatchNormalization())\n",
        "classifier.add(MaxPooling2D(pool_size=(2,2),strides=2,padding='valid')) #if stride not given it equal to pool filter size\n",
        "\n",
        "classifier.add(Conv2D(64,(3,3),padding='valid',activation = 'relu'))\n",
        "classifier.add(BatchNormalization())\n",
        "classifier.add(MaxPooling2D(pool_size=(2,2),strides=2,padding='valid'))\n",
        "\n",
        "classifier.add(Conv2D(128,(3,3),padding='valid',activation = 'relu'))\n",
        "classifier.add(BatchNormalization())\n",
        "classifier.add(MaxPooling2D(pool_size=(2,2),strides=2,padding='valid'))\n",
        "\n",
        "classifier.add(Flatten())\n",
        "classifier.add(Dense(units=128,activation='relu'))\n",
        "classifier.add(Dropout(0.1))\n",
        "classifier.add(Dense(units=64,activation='relu'))\n",
        "classifier.add(Dropout(0.1))\n",
        "classifier.add(Dense(units=1,activation='sigmoid'))\n",
        "# adam = tensorflow.keras.optimizers.Adam(learning_rate=0.001, beta_1=0.9, beta_2=0.999, epsilon=None, decay=0.0, amsgrad=False)\n",
        "classifier.compile(optimizer='adam',loss='binary_crossentropy',metrics=['accuracy'])\n",
        "#tensorboard = TensorBoard(log_dir=\"logs/{}\".format(time()))\n",
        "\n",
        "\n"
      ],
      "metadata": {
        "id": "e8yZLr_CQTGk"
      },
      "execution_count": 9,
      "outputs": []
    },
    {
      "cell_type": "code",
      "source": [
        "\n",
        "history=classifier.fit_generator(train_set,steps_per_epoch=625,epochs = 25,validation_data = test_set,validation_steps = 20,)\n",
        ""
      ],
      "metadata": {
        "colab": {
          "base_uri": "https://localhost:8080/"
        },
        "id": "pytqaVAwQTKc",
        "outputId": "ba89f4fb-9f1b-4bbc-ec8d-ff06e9a5f777"
      },
      "execution_count": 10,
      "outputs": [
        {
          "output_type": "stream",
          "name": "stdout",
          "text": [
            "Epoch 1/25\n",
            "625/625 [==============================] - 227s 358ms/step - loss: 0.6345 - accuracy: 0.6599 - val_loss: 0.9409 - val_accuracy: 0.3438\n",
            "Epoch 2/25\n",
            "625/625 [==============================] - 223s 357ms/step - loss: 0.4904 - accuracy: 0.7640 - val_loss: 0.6106 - val_accuracy: 0.6609\n",
            "Epoch 3/25\n",
            "625/625 [==============================] - 220s 352ms/step - loss: 0.4211 - accuracy: 0.8069 - val_loss: 0.6560 - val_accuracy: 0.6125\n",
            "Epoch 4/25\n",
            "625/625 [==============================] - 223s 356ms/step - loss: 0.3704 - accuracy: 0.8318 - val_loss: 0.1792 - val_accuracy: 0.9281\n",
            "Epoch 5/25\n",
            "625/625 [==============================] - 220s 352ms/step - loss: 0.3385 - accuracy: 0.8515 - val_loss: 0.2926 - val_accuracy: 0.8766\n",
            "Epoch 6/25\n",
            "625/625 [==============================] - 218s 348ms/step - loss: 0.3095 - accuracy: 0.8674 - val_loss: 0.3908 - val_accuracy: 0.7937\n",
            "Epoch 7/25\n",
            "625/625 [==============================] - 221s 352ms/step - loss: 0.2879 - accuracy: 0.8784 - val_loss: 0.4564 - val_accuracy: 0.8016\n",
            "Epoch 8/25\n",
            "625/625 [==============================] - 217s 347ms/step - loss: 0.2638 - accuracy: 0.8884 - val_loss: 0.1431 - val_accuracy: 0.9531\n",
            "Epoch 9/25\n",
            "625/625 [==============================] - 217s 346ms/step - loss: 0.2475 - accuracy: 0.8949 - val_loss: 0.4629 - val_accuracy: 0.7859\n",
            "Epoch 10/25\n",
            "625/625 [==============================] - 214s 342ms/step - loss: 0.2344 - accuracy: 0.9032 - val_loss: 0.3092 - val_accuracy: 0.8734\n",
            "Epoch 11/25\n",
            "625/625 [==============================] - 218s 349ms/step - loss: 0.2169 - accuracy: 0.9103 - val_loss: 0.1136 - val_accuracy: 0.9578\n",
            "Epoch 12/25\n",
            "625/625 [==============================] - 218s 349ms/step - loss: 0.2028 - accuracy: 0.9157 - val_loss: 0.2046 - val_accuracy: 0.9156\n",
            "Epoch 13/25\n",
            "625/625 [==============================] - 221s 353ms/step - loss: 0.1870 - accuracy: 0.9240 - val_loss: 0.3597 - val_accuracy: 0.8703\n",
            "Epoch 14/25\n",
            "625/625 [==============================] - 219s 350ms/step - loss: 0.1774 - accuracy: 0.9294 - val_loss: 0.3093 - val_accuracy: 0.8719\n",
            "Epoch 15/25\n",
            "625/625 [==============================] - 220s 352ms/step - loss: 0.1620 - accuracy: 0.9363 - val_loss: 0.2801 - val_accuracy: 0.8891\n",
            "Epoch 16/25\n",
            "625/625 [==============================] - 219s 351ms/step - loss: 0.1523 - accuracy: 0.9399 - val_loss: 0.3691 - val_accuracy: 0.8703\n",
            "Epoch 17/25\n",
            "625/625 [==============================] - 220s 352ms/step - loss: 0.1422 - accuracy: 0.9426 - val_loss: 0.4817 - val_accuracy: 0.8375\n",
            "Epoch 18/25\n",
            "625/625 [==============================] - 218s 349ms/step - loss: 0.1334 - accuracy: 0.9467 - val_loss: 0.3865 - val_accuracy: 0.8625\n",
            "Epoch 19/25\n",
            "625/625 [==============================] - 221s 353ms/step - loss: 0.1232 - accuracy: 0.9513 - val_loss: 0.3614 - val_accuracy: 0.8562\n",
            "Epoch 20/25\n",
            "625/625 [==============================] - 220s 351ms/step - loss: 0.1195 - accuracy: 0.9520 - val_loss: 0.2656 - val_accuracy: 0.8859\n",
            "Epoch 21/25\n",
            "625/625 [==============================] - 218s 348ms/step - loss: 0.1081 - accuracy: 0.9587 - val_loss: 0.4754 - val_accuracy: 0.8234\n",
            "Epoch 22/25\n",
            "625/625 [==============================] - 216s 346ms/step - loss: 0.1069 - accuracy: 0.9582 - val_loss: 0.2691 - val_accuracy: 0.9047\n",
            "Epoch 23/25\n",
            "625/625 [==============================] - 217s 347ms/step - loss: 0.1001 - accuracy: 0.9609 - val_loss: 0.5795 - val_accuracy: 0.7969\n",
            "Epoch 24/25\n",
            "625/625 [==============================] - 217s 347ms/step - loss: 0.0910 - accuracy: 0.9652 - val_loss: 0.3313 - val_accuracy: 0.8750\n",
            "Epoch 25/25\n",
            "625/625 [==============================] - 220s 352ms/step - loss: 0.0897 - accuracy: 0.9646 - val_loss: 0.4208 - val_accuracy: 0.8719\n"
          ]
        }
      ]
    },
    {
      "cell_type": "code",
      "source": [
        "import matplotlib.pyplot as plt\n",
        "plt.plot(history.history['accuracy'],color='red',label='Train')\n",
        "plt.plot(history.history['val_accuracy'],color='blue',label='Test')\n",
        "\n",
        "plt.legend()\n",
        "plt.show()\n"
      ],
      "metadata": {
        "colab": {
          "base_uri": "https://localhost:8080/",
          "height": 430
        },
        "id": "Qb95Om4-QTN3",
        "outputId": "99f924a4-5cee-4e70-c04e-25101ba0389e"
      },
      "execution_count": 11,
      "outputs": [
        {
          "output_type": "display_data",
          "data": {
            "text/plain": [
              "<Figure size 640x480 with 1 Axes>"
            ],
            "image/png": "[encoded data removed]"
          },
          "metadata": {}
        }
      ]
    },
    {
      "cell_type": "code",
      "source": [
        "import matplotlib.pyplot as plt\n",
        "plt.plot(history.history['loss'],color='red',label='Train')\n",
        "plt.plot(history.history['val_loss'],color='blue',label='Test')\n",
        "\n",
        "plt.legend()\n",
        "plt.show()"
      ],
      "metadata": {
        "colab": {
          "base_uri": "https://localhost:8080/",
          "height": 430
        },
        "id": "U-djpfvSU_S0",
        "outputId": "e6dddec4-40c6-4e42-ed77-3437e26dcc53"
      },
      "execution_count": 12,
      "outputs": [
        {
          "output_type": "display_data",
          "data": {
            "text/plain": [
              "<Figure size 640x480 with 1 Axes>"
            ],
            "image/png": "[encoded data removed]"
          },
          "metadata": {}
        }
      ]
    },
    {
      "cell_type": "code",
      "source": [
        "%%capture\n",
        "# Model Accuracy\n",
        "x1 = classifier.evaluate_generator(train_set)\n",
        "x2 = classifier.evaluate_generator(test_set)"
      ],
      "metadata": {
        "id": "xb0KPNJhrz3I"
      },
      "execution_count": 15,
      "outputs": []
    },
    {
      "cell_type": "code",
      "source": [
        "print('Training Accuracy  : %1.2f%%     Training loss  : %1.6f'%(x1[1]*100,x1[0]))\n",
        "print('Validation Accuracy: %1.2f%%     Validation loss: %1.6f'%(x2[1]*100,x2[0]))"
      ],
      "metadata": {
        "colab": {
          "base_uri": "https://localhost:8080/"
        },
        "id": "iBiAHm6Msoll",
        "outputId": "164849c1-0b70-4dff-fd2a-396c8fde7e71"
      },
      "execution_count": 14,
      "outputs": [
        {
          "output_type": "stream",
          "name": "stdout",
          "text": [
            "Training Accuracy  : 94.66%     Training loss  : 0.142617\n",
            "Validation Accuracy: 86.50%     Validation loss: 0.431141\n"
          ]
        }
      ]
    },
    {
      "cell_type": "code",
      "source": [],
      "metadata": {
        "id": "8VU6__1jsonK"
      },
      "execution_count": null,
      "outputs": []
    },
    {
      "cell_type": "code",
      "source": [],
      "metadata": {
        "id": "NRzDuaI0sorT"
      },
      "execution_count": null,
      "outputs": []
    }
  ]
}